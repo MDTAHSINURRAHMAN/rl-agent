{
 "cells": [
  {
   "cell_type": "code",
   "execution_count": 3,
   "id": "42745d7c",
   "metadata": {},
   "outputs": [
    {
     "name": "stdout",
     "output_type": "stream",
     "text": [
      "        Age  Systolic_BP  Diastolic       BS  Body_Temp       BMI  \\\n",
      "0  0.038095     0.153846        0.2  0.37500   0.500000  0.486486   \n",
      "1  0.038095     0.307692        0.3  0.25625   0.166667  0.551351   \n",
      "2  0.053968     0.307692        0.3  0.28125   0.166667  0.621622   \n",
      "3  0.031746     0.230769        0.3  0.26250   0.166667  0.572973   \n",
      "4  0.031746     0.153846        0.2  0.28125   0.166667  0.532432   \n",
      "\n",
      "   Previous_Complications  Preexisting_Diabetes  Gestational_Diabetes  \\\n",
      "0                     1.0                   1.0                     0   \n",
      "1                     0.0                   0.0                     0   \n",
      "2                     1.0                   0.0                     0   \n",
      "3                     0.0                   0.0                     0   \n",
      "4                     0.0                   0.0                     0   \n",
      "\n",
      "   Mental_Health  Heart_Rate  Risk_Level  \n",
      "0              1    0.647059         0.0  \n",
      "1              0    0.470588         1.0  \n",
      "2              0    0.411765         1.0  \n",
      "3              0    0.470588         1.0  \n",
      "4              0    0.470588         1.0  \n"
     ]
    }
   ],
   "source": [
    "import pandas as pd\n",
    "from sklearn.preprocessing import MinMaxScaler\n",
    "\n",
    "# Load dataset\n",
    "df = pd.read_csv(\"../Enhanced_Kurigram_Dataset.csv\")\n",
    "\n",
    "# Identify numerical features to scale\n",
    "numerical_cols = ['Age', 'Systolic_BP', 'Diastolic', 'BS', 'Body_Temp', 'BMI', 'Heart_Rate']\n",
    "\n",
    "# Keep a copy of the original binary and target columns\n",
    "binary_cols = [col for col in df.columns if col not in numerical_cols + ['Risk_Level']]\n",
    "target_col = 'Risk_Level'\n",
    "\n",
    "# Initialize MinMaxScaler\n",
    "scaler = MinMaxScaler()\n",
    "\n",
    "# Create a copy and scale only the numerical features\n",
    "df_scaled = df.copy()\n",
    "df_scaled[numerical_cols] = scaler.fit_transform(df[numerical_cols])\n",
    "\n",
    "# Save the scaled dataset\n",
    "df_scaled.to_csv(\"MinMax_Scaled_Kurigram_Dataset.csv\", index=False)\n",
    "\n",
    "# Show preview\n",
    "print(df_scaled.head())"
   ]
  },
  {
   "cell_type": "code",
   "execution_count": null,
   "id": "f86c108c",
   "metadata": {},
   "outputs": [],
   "source": []
  }
 ],
 "metadata": {
  "kernelspec": {
   "display_name": "Python (venv)",
   "language": "python",
   "name": "venv"
  },
  "language_info": {
   "codemirror_mode": {
    "name": "ipython",
    "version": 3
   },
   "file_extension": ".py",
   "mimetype": "text/x-python",
   "name": "python",
   "nbconvert_exporter": "python",
   "pygments_lexer": "ipython3",
   "version": "3.12.7"
  }
 },
 "nbformat": 4,
 "nbformat_minor": 5
}
